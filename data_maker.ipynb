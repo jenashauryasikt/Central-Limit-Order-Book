{
 "cells": [
  {
   "cell_type": "code",
   "execution_count": 1,
   "metadata": {},
   "outputs": [],
   "source": [
    "import os\n",
    "import pandas as pd\n",
    "import numpy as np"
   ]
  },
  {
   "cell_type": "code",
   "execution_count": 2,
   "metadata": {},
   "outputs": [],
   "source": [
    "column_names = ['Type', 'OrderID', 'Time', 'Symbol', 'Action', 'Size', 'Price']"
   ]
  },
  {
   "cell_type": "code",
   "execution_count": 3,
   "metadata": {},
   "outputs": [],
   "source": [
    "data1 = [\n",
    "    ['Add', 'O101', '12:00:01', 'AAPL', 'BUY', 200, 33.55],    # AAPL limit buy\n",
    "    ['Add', 'O102', '12:00:01', 'INTC', 'BUY', 300, 25.75],    # INTC limit buy   \n",
    "    ['Add', 'O103', '12:00:04', 'AAPL', 'SELL', 300, 33.62],   # AAPL limit sell\n",
    "    ['Add', 'O104', '12:00:05', 'NVDA', 'BUY', 500, 40.55],    # NVDA limit buy\n",
    "    ['Add', 'O107', '12:00:08', 'NVDA', 'SELL', 200, 40.60],   # NVDA limit sell\n",
    "    ['Add', 'O108', '12:00:09', 'INTC', 'BUY', 200, 25.77],    # INTC limit buy\n",
    "    ['Cancel', 'O104', '12:00:10', 'NVDA', 'BUY', 500, 40.55],     # NVDA cancel buy\n",
    "    ['Add', 'O110', '12:00:10', 'NVDA', 'SELL', 200, 40.59],   # NVDA limit sell\n",
    "    ['Add', 'O113', '12:00:14', 'NVDA', 'BUY', 200, 40.55],    # NVDA limit buy\n",
    "    ['Add', 'O114', '12:00:15', 'INTC', 'SELL', 300, 25.80],   # INTC limit sell\n",
    "    ['Cancel', 'O114', '12:00:20', 'INTC', 'SELL', 300, 25.80],     # INTC cancel cell\n",
    "    ['Add', 'O117', '12:00:22', 'AAPL', 'SELL', 100, 33.61],   # AAPL limit sell\n",
    "    ['Add', 'O118', '12:00:22', 'AAPL', 'BUY', 100, 33.54],    # AAPL limit buy\n",
    "    ['Add', 'O119', '12:00:23', 'AAPL', 'BUY', 200, 33.56],    # AAPL limit buy\n",
    "    ['Add', 'O121', '12:00:26', 'INTC', 'BUY', 200, 25.78],    # INTC limit buy\n",
    "    ['Add', 'O122', '12:00:26', 'INTC', 'SELL', 400, 25.82],   # INTC limit sell\n",
    "    ['Add', 'O123', '12:00:27', 'NVDA', 'BUY', 200, 40.58],    # NVDA limit buy\n",
    "    ['Add', 'O124', '12:00:28', 'NVDA', 'SELL', 100, 40.59],   # NVDA limit sell\n",
    "    ['Add', 'O125', '12:00:28', 'AAPL', 'SELL', 200, 33.61],    # AAPL limit sell\n",
    "    ['Add', 'O127', '12:00:29', 'INTC', 'SELL', 100, 25.79],   # INTC limit sell\n",
    "    ['Cancel', 'O125', '12:00:30', 'AAPL', 'SELL', 200, 33.61]     # AAPL cancel sell\n",
    "]"
   ]
  },
  {
   "cell_type": "code",
   "execution_count": 4,
   "metadata": {},
   "outputs": [],
   "source": [
    "data2 = [\n",
    "    ['Add', 'P101', '12:00:01', 'AAPL', 'BUY', 200, 33.55],    # AAPL limit buy\n",
    "    ['Add', 'P102', '12:00:02', 'NVDA', 'BUY', 100, 40.54],    # NVDA limit buy   \n",
    "    ['Add', 'P103', '12:00:05', 'AAPL', 'BUY', 300, 33.56],   # AAPL limit buy\n",
    "    ['Add', 'P104', '12:00:05', 'NVDA', 'BUY', 500, 40.55],    # NVDA limit buy\n",
    "    ['Add', 'P107', '12:00:08', 'NVDA', 'SELL', 200, 40.60],   # NVDA limit sell\n",
    "    ['Add', 'P108', '12:00:08', 'INTC', 'SELL', 200, 25.80],    # INTC limit sell\n",
    "    ['Cancel', 'P107', '12:00:10', 'NVDA', 'SELL', 200, 40.60],     # NVDA cancel sell\n",
    "    ['Add', 'P110', '12:00:11', 'NVDA', 'SELL', 200, 40.60],   # NVDA limit sell\n",
    "    ['Add', 'P113', '12:00:14', 'AAPL', 'SELL', 300, 33.60],    # AAPL limit sell\n",
    "    ['Add', 'P114', '12:00:15', 'INTC', 'SELL', 300, 25.80],   # INTC limit sell\n",
    "    ['Cancel', 'P103', '12:00:20', 'AAPL', 'BUY', 300, 33.56],     # AAPL cancel buy\n",
    "    ['Add', 'P117', '12:00:23', 'INTC', 'BUY', 100, 25.77],   # AAPL limit sell\n",
    "    ['Add', 'P119', '12:00:23', 'AAPL', 'BUY', 200, 33.57],    # AAPL limit buy\n",
    "    ['Cancel', 'P108', '12:00:25', 'INTC', 'SELL', 200, 25.80],     # INTC cancel sell\n",
    "    ['Add', 'P121', '12:00:25', 'INTC', 'BUY', 200, 25.78],    # INTC limit buy\n",
    "    ['Add', 'P122', '12:00:26', 'NVDA', 'BUY', 400, 40.55],   # NVDA limit buy\n",
    "    ['Add', 'P123', '12:00:27', 'NVDA', 'BUY', 200, 40.56],    # NVDA limit buy\n",
    "    ['Add', 'P124', '12:00:27', 'AAPL', 'SELL', 100, 33.59],   # AAPL limit sell\n",
    "    ['Add', 'P127', '12:00:29', 'NVDA', 'SELL', 100, 40.59]   # NVDA limit sell\n",
    "]"
   ]
  },
  {
   "cell_type": "code",
   "execution_count": 5,
   "metadata": {},
   "outputs": [],
   "source": [
    "data3 = [\n",
    "    ['Add', 'Q101', '12:00:02', 'NVDA', 'SELL', 200, 40.59],    # NVDA limit sell\n",
    "    ['Add', 'Q102', '12:00:02', 'INTC', 'SELL', 100, 25.79],    # INTC limit sell  \n",
    "    ['Add', 'Q103', '12:00:03', 'AAPL', 'SELL', 300, 33.62],   # AAPL limit sell\n",
    "    ['Add', 'Q104', '12:00:04', 'INTC', 'BUY', 500, 28.78],    # INTC limit buy\n",
    "    ['Add', 'Q107', '12:00:08', 'AAPL', 'BUY', 200, 33.50],   # AAPL limit buy\n",
    "    ['Add', 'Q108', '12:00:09', 'NVDA', 'BUY', 200, 40.55],    # NVDA limit buy\n",
    "    ['Cancel', 'Q107', '12:00:11', 'AAPL', 'BUY', 200, 33.50],     # AAPL cancel buy\n",
    "    ['Add', 'Q110', '12:00:12', 'INTC', 'SELL', 200, 25.81],   # INTC limit sell\n",
    "    ['Add', 'Q113', '12:00:14', 'AAPL', 'BUY', 200, 33.55],    # AAPL limit buy\n",
    "    ['Add', 'Q114', '12:00:15', 'INTC', 'BUY', 300, 25.76],   # INTC limit buy\n",
    "    ['Add', 'Q117', '12:00:22', 'AAPL', 'SELL', 100, 33.61],   # AAPL limit sell\n",
    "    ['Add', 'Q118', '12:00:22', 'AAPL', 'BUY', 100, 33.58],    # AAPL limit buy\n",
    "    ['Add', 'Q119', '12:00:23', 'NVDA', 'BUY', 200, 40.58],    # NVDA limit buy\n",
    "    ['Add', 'Q121', '12:00:26', 'INTC', 'SELL', 200, 25.81],    # INTC limit SELL\n",
    "    ['Cancel', 'Q114', '12:00:27', 'INTC', 'BUY', 300, 25.76],     # INTC cancel buy\n",
    "    ['Add', 'Q124', '12:00:28', 'NVDA', 'SELL', 100, 40.60],   # NVDA limit sell\n",
    "    ['Add', 'Q127', '12:00:28', 'INTC', 'SELL', 100, 25.79]   # INTC limit sell\n",
    "]"
   ]
  },
  {
   "cell_type": "code",
   "execution_count": 6,
   "metadata": {},
   "outputs": [],
   "source": [
    "market_data = [\n",
    "    ['Add', 'M101', '12:00:05', 'AAPL', 'BUY', 200, None],    # AAPL market buy\n",
    "    ['Add', 'M102', '12:00:06', 'NVDA', 'SELL', 500, None],    # NVDA market sell\n",
    "    ['Add', 'M103', '12:00:07', 'INTC', 'SELL', 600, None],    # INTC market sell\n",
    "    ['Add', 'M104', '12:00:15', 'AAPL', 'BUY', 400, None],    # AAPL market buy\n",
    "    ['Add', 'M105', '12:00:16', 'NVDA', 'BUY', 100, None],    # NVDA market buy\n",
    "    ['Add', 'M106', '12:00:17', 'INTC', 'BUY', 200, None],    # INTC market buy\n",
    "    ['Add', 'M107', '12:00:26', 'AAPL', 'SELL', 200, None],    # AAPL market sell\n",
    "    ['Add', 'M108', '12:00:27', 'NVDA', 'BUY', 300, None],    # NVDA market buy\n",
    "    ['Add', 'M109', '12:00:29', 'INTC', 'BUY', 100, None],    # AAPL market sell\n",
    "    ['Add', 'M110', '12:00:30', 'AAPL', 'SELL', 300, None]    # AAPL market sell    \n",
    "]"
   ]
  },
  {
   "cell_type": "code",
   "execution_count": 7,
   "metadata": {},
   "outputs": [],
   "source": [
    "df_user1 = pd.DataFrame(data1, columns=column_names)\n",
    "df_user2 = pd.DataFrame(data2, columns=column_names)\n",
    "df_user3 = pd.DataFrame(data3, columns=column_names)\n",
    "df_market = pd.DataFrame(market_data, columns=column_names)"
   ]
  },
  {
   "cell_type": "code",
   "execution_count": 8,
   "metadata": {},
   "outputs": [],
   "source": [
    "df_user1.to_csv('user_1.csv', index=False)\n",
    "df_user2.to_csv('user_2.csv', index=False)\n",
    "df_user3.to_csv('user_3.csv', index=False)\n",
    "df_market.to_csv('market.csv', index=False)"
   ]
  },
  {
   "cell_type": "code",
   "execution_count": 10,
   "metadata": {},
   "outputs": [
    {
     "name": "stderr",
     "output_type": "stream",
     "text": [
      "/var/folders/4v/5xt_qbps4xs4lhsqnd9b3lp00000gn/T/ipykernel_6379/3078610464.py:1: FutureWarning: The behavior of DataFrame concatenation with empty or all-NA entries is deprecated. In a future version, this will no longer exclude empty or all-NA columns when determining the result dtypes. To retain the old behavior, exclude the relevant entries before the concat operation.\n",
      "  concat_df = pd.concat([df_user1, df_user2, df_user3, df_market], axis=0)\n"
     ]
    },
    {
     "data": {
      "text/html": [
       "<div>\n",
       "<style scoped>\n",
       "    .dataframe tbody tr th:only-of-type {\n",
       "        vertical-align: middle;\n",
       "    }\n",
       "\n",
       "    .dataframe tbody tr th {\n",
       "        vertical-align: top;\n",
       "    }\n",
       "\n",
       "    .dataframe thead th {\n",
       "        text-align: right;\n",
       "    }\n",
       "</style>\n",
       "<table border=\"1\" class=\"dataframe\">\n",
       "  <thead>\n",
       "    <tr style=\"text-align: right;\">\n",
       "      <th></th>\n",
       "      <th>Type</th>\n",
       "      <th>OrderID</th>\n",
       "      <th>Time</th>\n",
       "      <th>Symbol</th>\n",
       "      <th>Action</th>\n",
       "      <th>Size</th>\n",
       "      <th>Price</th>\n",
       "    </tr>\n",
       "  </thead>\n",
       "  <tbody>\n",
       "    <tr>\n",
       "      <th>0</th>\n",
       "      <td>Add</td>\n",
       "      <td>O101</td>\n",
       "      <td>12:00:01</td>\n",
       "      <td>AAPL</td>\n",
       "      <td>BUY</td>\n",
       "      <td>200</td>\n",
       "      <td>33.55</td>\n",
       "    </tr>\n",
       "    <tr>\n",
       "      <th>0</th>\n",
       "      <td>Add</td>\n",
       "      <td>P101</td>\n",
       "      <td>12:00:01</td>\n",
       "      <td>AAPL</td>\n",
       "      <td>BUY</td>\n",
       "      <td>200</td>\n",
       "      <td>33.55</td>\n",
       "    </tr>\n",
       "    <tr>\n",
       "      <th>2</th>\n",
       "      <td>Add</td>\n",
       "      <td>Q103</td>\n",
       "      <td>12:00:03</td>\n",
       "      <td>AAPL</td>\n",
       "      <td>SELL</td>\n",
       "      <td>300</td>\n",
       "      <td>33.62</td>\n",
       "    </tr>\n",
       "    <tr>\n",
       "      <th>2</th>\n",
       "      <td>Add</td>\n",
       "      <td>O103</td>\n",
       "      <td>12:00:04</td>\n",
       "      <td>AAPL</td>\n",
       "      <td>SELL</td>\n",
       "      <td>300</td>\n",
       "      <td>33.62</td>\n",
       "    </tr>\n",
       "    <tr>\n",
       "      <th>2</th>\n",
       "      <td>Add</td>\n",
       "      <td>P103</td>\n",
       "      <td>12:00:05</td>\n",
       "      <td>AAPL</td>\n",
       "      <td>BUY</td>\n",
       "      <td>300</td>\n",
       "      <td>33.56</td>\n",
       "    </tr>\n",
       "  </tbody>\n",
       "</table>\n",
       "</div>"
      ],
      "text/plain": [
       "  Type OrderID      Time Symbol Action  Size  Price\n",
       "0  Add    O101  12:00:01   AAPL    BUY   200  33.55\n",
       "0  Add    P101  12:00:01   AAPL    BUY   200  33.55\n",
       "2  Add    Q103  12:00:03   AAPL   SELL   300  33.62\n",
       "2  Add    O103  12:00:04   AAPL   SELL   300  33.62\n",
       "2  Add    P103  12:00:05   AAPL    BUY   300  33.56"
      ]
     },
     "execution_count": 10,
     "metadata": {},
     "output_type": "execute_result"
    }
   ],
   "source": [
    "concat_df = pd.concat([df_user1, df_user2, df_user3, df_market], axis=0)\n",
    "overall_df = concat_df.sort_values(by=['Symbol', 'Time'], ascending=[True, True])\n",
    "overall_df.head()"
   ]
  },
  {
   "cell_type": "code",
   "execution_count": 11,
   "metadata": {},
   "outputs": [],
   "source": [
    "overall_df.to_csv('overall.csv', index=False)"
   ]
  }
 ],
 "metadata": {
  "kernelspec": {
   "display_name": "newcortex",
   "language": "python",
   "name": "python3"
  },
  "language_info": {
   "codemirror_mode": {
    "name": "ipython",
    "version": 3
   },
   "file_extension": ".py",
   "mimetype": "text/x-python",
   "name": "python",
   "nbconvert_exporter": "python",
   "pygments_lexer": "ipython3",
   "version": "3.9.18"
  }
 },
 "nbformat": 4,
 "nbformat_minor": 2
}
